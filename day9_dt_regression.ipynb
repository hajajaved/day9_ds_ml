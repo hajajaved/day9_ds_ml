{
  "nbformat": 4,
  "nbformat_minor": 0,
  "metadata": {
    "colab": {
      "name": "day9_dt_regression.ipynb",
      "provenance": [],
      "authorship_tag": "ABX9TyObWBb/LYXVLqfOP697/SiM",
      "include_colab_link": true
    },
    "kernelspec": {
      "name": "python3",
      "display_name": "Python 3"
    },
    "language_info": {
      "name": "python"
    }
  },
  "cells": [
    {
      "cell_type": "markdown",
      "metadata": {
        "id": "view-in-github",
        "colab_type": "text"
      },
      "source": [
        "<a href=\"https://colab.research.google.com/github/hajajaved/day9_ds_ml/blob/main/day9_dt_regression.ipynb\" target=\"_parent\"><img src=\"https://colab.research.google.com/assets/colab-badge.svg\" alt=\"Open In Colab\"/></a>"
      ]
    },
    {
      "cell_type": "code",
      "metadata": {
        "id": "7fLP7jnrkdiw"
      },
      "source": [
        "#import the libraries\n",
        "\n",
        "import numpy as np\n",
        "import pandas as pd\n",
        "import matplotlib.pyplot as plt"
      ],
      "execution_count": 3,
      "outputs": []
    },
    {
      "cell_type": "code",
      "metadata": {
        "id": "EB0yxFptkq_1"
      },
      "source": [
        "#Import the dataset\n",
        "\n",
        "dataset = pd.read_csv(\"/content/Social_Network_Ads.csv\")\n",
        "\n",
        "x = dataset.iloc[:, 1:-1].values\n",
        "y = dataset.iloc[:, -1].values"
      ],
      "execution_count": 5,
      "outputs": []
    },
    {
      "cell_type": "code",
      "metadata": {
        "colab": {
          "base_uri": "https://localhost:8080/"
        },
        "id": "0SaDRZ3vkrHl",
        "outputId": "5cd99e63-999a-4263-caef-50d9fcf365ae"
      },
      "source": [
        "#Training the decision tree regresson on complete dataset\n",
        "\n",
        "from sklearn.tree import DecisionTreeRegressor\n",
        "\n",
        "reg1 = DecisionTreeRegressor()\n",
        "\n",
        "reg1.fit(x, y)\n",
        "  "
      ],
      "execution_count": 6,
      "outputs": [
        {
          "output_type": "execute_result",
          "data": {
            "text/plain": [
              "DecisionTreeRegressor(ccp_alpha=0.0, criterion='mse', max_depth=None,\n",
              "                      max_features=None, max_leaf_nodes=None,\n",
              "                      min_impurity_decrease=0.0, min_impurity_split=None,\n",
              "                      min_samples_leaf=1, min_samples_split=2,\n",
              "                      min_weight_fraction_leaf=0.0, presort='deprecated',\n",
              "                      random_state=None, splitter='best')"
            ]
          },
          "metadata": {
            "tags": []
          },
          "execution_count": 6
        }
      ]
    },
    {
      "cell_type": "code",
      "metadata": {
        "colab": {
          "base_uri": "https://localhost:8080/"
        },
        "id": "7Y3z4MCwkrQe",
        "outputId": "f081c65e-e7d7-46b7-90fa-9a31b8089d0c"
      },
      "source": [
        "reg1.predict([[6.5]])\n"
      ],
      "execution_count": 7,
      "outputs": [
        {
          "output_type": "execute_result",
          "data": {
            "text/plain": [
              "array([0.])"
            ]
          },
          "metadata": {
            "tags": []
          },
          "execution_count": 7
        }
      ]
    },
    {
      "cell_type": "code",
      "metadata": {
        "colab": {
          "base_uri": "https://localhost:8080/",
          "height": 295
        },
        "id": "KDpZuHQSkrY3",
        "outputId": "75402c37-01f7-4b03-fc01-ace12a8e106e"
      },
      "source": [
        "\n",
        "#Visualize on entire dataset\n",
        "\n",
        "x_grid = np.arange(min(x), max(x))\n",
        "\n",
        "x_grid = x_grid.reshape((len(x_grid), 1))\n",
        "\n",
        "plt.scatter(x,y, color = \"red\")\n",
        "\n",
        "plt.plot(x_grid, reg1.predict(x_grid), color =\"blue\")\n",
        "\n",
        "plt.title(\"Decision Tree Regression\")\n",
        "plt.xlabel(\"Level\")\n",
        "plt.ylabel(\"Salary\")\n",
        "\n",
        "plt.show()"
      ],
      "execution_count": 8,
      "outputs": [
        {
          "output_type": "display_data",
          "data": {
            "image/png": "[encoded data removed]",
            "text/plain": [
              "<Figure size 432x288 with 1 Axes>"
            ]
          },
          "metadata": {
            "tags": [],
            "needs_background": "light"
          }
        }
      ]
    }
  ]
}